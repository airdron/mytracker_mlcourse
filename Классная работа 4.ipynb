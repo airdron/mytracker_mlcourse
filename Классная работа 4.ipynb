{
 "cells": [
  {
   "cell_type": "markdown",
   "metadata": {},
   "source": [
    "## Практика по теме \"Деревья решений\""
   ]
  },
  {
   "cell_type": "markdown",
   "metadata": {},
   "source": [
    "sklearn - популярная библиотека, которая содержит основные модели машинного обучения и датасеты.  "
   ]
  },
  {
   "cell_type": "code",
   "execution_count": 265,
   "metadata": {
    "scrolled": true
   },
   "outputs": [
    {
     "output_type": "stream",
     "name": "stdout",
     "text": [
      "['sepal length (cm)', 'sepal width (cm)', 'petal length (cm)', 'petal width (cm)']\n"
     ]
    }
   ],
   "source": [
    "from sklearn import datasets\n",
    "\n",
    "dataset = datasets.load_iris()\n",
    "print(dataset.feature_names)"
   ]
  },
  {
   "cell_type": "markdown",
   "metadata": {},
   "source": [
    "Как следует из описания (`dataset['DESCR']`), датасет содержит 150 записей, которые описывают 3 вида ирисов (щетинистый, разноцветный, виргинский) по длине и ширине их лепестков и чашелистников.  \n",
    "Итак мы получили набор данных с 4мя фичами и 3мя классами"
   ]
  },
  {
   "cell_type": "markdown",
   "metadata": {},
   "source": [
    "Обычно все размеченные данные разбиваются на 3 части: обучающая выборка, валидационая и тестовая. Во время экспериментов с моделями тестовая выборка не используется. Все параметры настраиваются по результатам метрик на валидационной выборке. А финальные результаты демострируются на тестовой."
   ]
  },
  {
   "cell_type": "code",
   "execution_count": 266,
   "metadata": {},
   "outputs": [
    {
     "output_type": "stream",
     "name": "stdout",
     "text": [
      "['sepal length (cm)', 'sepal width (cm)', 'petal length (cm)', 'petal width (cm)']\n"
     ]
    }
   ],
   "source": [
    "from sklearn.model_selection import train_test_split\n",
    "\n",
    "X = dataset.data\n",
    "y = dataset.target\n",
    "X_train, X_test, y_train, y_test = train_test_split(X, y, test_size=0.3, random_state=17)\n"
   ]
  },
  {
   "cell_type": "markdown",
   "metadata": {},
   "source": [
    "Чтобы нам как-то измерить результаты модели, реализуем метрику accuracy разделив верно предсказанные классы на размер выборки"
   ]
  },
  {
   "cell_type": "code",
   "execution_count": 139,
   "metadata": {},
   "outputs": [],
   "source": [
    "def score(y_true, y_pred):\n",
    "    return sum(y_true == y_pred) / len(y_true)"
   ]
  },
  {
   "cell_type": "markdown",
   "metadata": {},
   "source": [
    "Попробуем подобрать глубину дерева с помощью кросс-валидации"
   ]
  },
  {
   "cell_type": "code",
   "execution_count": 140,
   "metadata": {},
   "outputs": [
    {
     "output_type": "stream",
     "name": "stdout",
     "text": [
      "1 0.7047619047619048 [0.68571429 0.71428571 0.71428571]\n2 0.9428571428571427 [0.91428571 1.         0.91428571]\n3 0.9333333333333332 [0.91428571 1.         0.88571429]\nNone 0.9238095238095237 [0.91428571 0.97142857 0.88571429]\n"
     ]
    }
   ],
   "source": [
    "from sklearn.tree import DecisionTreeClassifier\n",
    "from sklearn.model_selection import cross_val_score\n",
    "\n",
    "for max_depth in [1, 2, 3, None]:\n",
    "    model = DecisionTreeClassifier(max_depth=max_depth, random_state=17)\n",
    "    scores = cross_val_score(model, X_train, y_train, cv=3, error_score=score)\n",
    "    print(max_depth, scores.mean(), scores)"
   ]
  },
  {
   "cell_type": "markdown",
   "metadata": {},
   "source": [
    "Если мы будем перебирать все параметры, которые есть у дерева, то это может занять достаточно много времени, тем более если мы хотим это распаралеллить. Поэтому в библиотеке sklearn уже есть готовый метод для перебора параметров. Воспользуемся, например, `GridSearchCV`."
   ]
  },
  {
   "cell_type": "code",
   "execution_count": 141,
   "metadata": {},
   "outputs": [
    {
     "output_type": "stream",
     "name": "stdout",
     "text": [
      "Best score: 0.9428571428571427\nBest params: {'class_weight': None, 'max_depth': 2, 'max_features': None}\n"
     ]
    }
   ],
   "source": [
    "from sklearn.model_selection import GridSearchCV\n",
    "\n",
    "g = GridSearchCV(estimator=DecisionTreeClassifier(random_state=17),\n",
    "                 param_grid={'max_depth': list(range(1, 5)) + [None],\n",
    "                             'max_features': ['sqrt', 'log2', None],\n",
    "                             'class_weight': [None, 'balanced']\n",
    "                             },\n",
    "                 error_score=score, cv=3, n_jobs=4)\n",
    "g.fit(X_train, y_train)\n",
    "print(f'Best score: {g.best_score_}')\n",
    "print(f'Best params: {g.best_params_}')"
   ]
  },
  {
   "cell_type": "markdown",
   "metadata": {},
   "source": [
    "После того, как нашли лучшие параметры, давайте посмотри точность модели на отложенной выборке."
   ]
  },
  {
   "cell_type": "code",
   "execution_count": 142,
   "metadata": {},
   "outputs": [
    {
     "output_type": "stream",
     "name": "stdout",
     "text": [
      "Train score: 0.9523809523809523\nTest score: 0.9777777777777777\n"
     ]
    }
   ],
   "source": [
    "model = DecisionTreeClassifier(class_weight=None, max_depth=2, max_features=None, random_state=17)\n",
    "model.fit(X_train, y_train)\n",
    "print(f'Train score: {score(y_train, model.predict(X_train))}')\n",
    "\n",
    "pred = model.predict(X_test)\n",
    "print(f'Test score: {score(y_test, pred)}')"
   ]
  },
  {
   "cell_type": "code",
   "execution_count": 143,
   "metadata": {},
   "outputs": [
    {
     "output_type": "execute_result",
     "data": {
      "text/plain": [
       "array([0, 1, 2, 1, 2, 2, 1, 2, 1, 2, 2, 0, 1, 0, 2, 0, 0, 2, 2, 2, 1, 0,\n",
       "       2, 1, 1, 1, 1, 1, 0, 1, 0, 1, 0, 0, 1, 1, 1, 2, 1, 0, 1, 1, 0, 1,\n",
       "       2])"
      ]
     },
     "metadata": {},
     "execution_count": 143
    }
   ],
   "source": [
    "model.predict(X_test)"
   ]
  },
  {
   "cell_type": "markdown",
   "metadata": {},
   "source": [
    "sklearn использует методы одного вида для каждой из своих моделей. Эти методы стали стандартом в индустрии.\n",
    "Вот основные методы:\n",
    "- `fit(X_train, y_train)` тут мы обучаем нашу модель.\n",
    "- `predict_proba(X_test)` здесь мы предскажем вероятность отнесения к каждому классу элементов теста. Вероятность для каждой модели рассчитывается по разному. Для `DecosionTreeClassifier` - это доля элементов класса в \"листе\".\n",
    "- `predict(X_test)` а тут мы в результате выдадим уже метки классов для теста. Часто реализация метода выглядит как argmax от predict_proba."
   ]
  },
  {
   "cell_type": "markdown",
   "metadata": {},
   "source": [
    "Отличный результат!"
   ]
  },
  {
   "cell_type": "markdown",
   "metadata": {},
   "source": [
    "Теперь давайте попробуем нарисовать дерево, которое мы построили. Будем делать с помощью функционала `export_graphviz`."
   ]
  },
  {
   "cell_type": "code",
   "execution_count": 144,
   "metadata": {},
   "outputs": [],
   "source": [
    "from sklearn.tree import export_graphviz\n",
    "\n",
    "fit_model = model.fit(X_train, y_train)\n",
    "export_graphviz(fit_model, out_file='tree.dot', filled=True,\n",
    "                feature_names=['sepal length', 'sepal width', 'petal length', 'petal width'])"
   ]
  },
  {
   "cell_type": "markdown",
   "metadata": {},
   "source": [
    "На выходе вы получаем файл `tree.dot`, который содержит всю необходимую для нас информацию. Но для того, чтобы мы смогли посмотреть на наше дерево, нам надо перевести этот файл в картинку. Воспользуемся для этого консольной командой `dot`."
   ]
  },
  {
   "cell_type": "code",
   "execution_count": 13,
   "metadata": {},
   "outputs": [],
   "source": [
    "!dot -Tpng tree.dot -o tree.png"
   ]
  },
  {
   "cell_type": "markdown",
   "metadata": {},
   "source": [
    "На выходе получаем картинку `tree.png`, которая и показана ниже."
   ]
  },
  {
   "cell_type": "markdown",
   "metadata": {},
   "source": [
    "![](tree.png)"
   ]
  },
  {
   "cell_type": "code",
   "execution_count": null,
   "metadata": {},
   "outputs": [],
   "source": []
  },
  {
   "cell_type": "markdown",
   "metadata": {},
   "source": [
    "## Классная работа № 4"
   ]
  },
  {
   "cell_type": "markdown",
   "metadata": {},
   "source": [
    "В данной классной работе мы попробуем обучить несколько различных деревьев решений на другом известном датасете."
   ]
  },
  {
   "cell_type": "code",
   "execution_count": 282,
   "metadata": {},
   "outputs": [],
   "source": [
    "dataset = datasets.load_wine()"
   ]
  },
  {
   "cell_type": "code",
   "execution_count": 283,
   "metadata": {},
   "outputs": [
    {
     "output_type": "stream",
     "name": "stdout",
     "text": [
      ".. _wine_dataset:\n\nWine recognition dataset\n------------------------\n\n**Data Set Characteristics:**\n\n    :Number of Instances: 178 (50 in each of three classes)\n    :Number of Attributes: 13 numeric, predictive attributes and the class\n    :Attribute Information:\n \t\t- Alcohol\n \t\t- Malic acid\n \t\t- Ash\n\t\t- Alcalinity of ash  \n \t\t- Magnesium\n\t\t- Total phenols\n \t\t- Flavanoids\n \t\t- Nonflavanoid phenols\n \t\t- Proanthocyanins\n\t\t- Color intensity\n \t\t- Hue\n \t\t- OD280/OD315 of diluted wines\n \t\t- Proline\n\n    - class:\n            - class_0\n            - class_1\n            - class_2\n\t\t\n    :Summary Statistics:\n    \n    ============================= ==== ===== ======= =====\n                                   Min   Max   Mean     SD\n    ============================= ==== ===== ======= =====\n    Alcohol:                      11.0  14.8    13.0   0.8\n    Malic Acid:                   0.74  5.80    2.34  1.12\n    Ash:                          1.36  3.23    2.36  0.27\n    Alcalinity of Ash:            10.6  30.0    19.5   3.3\n    Magnesium:                    70.0 162.0    99.7  14.3\n    Total Phenols:                0.98  3.88    2.29  0.63\n    Flavanoids:                   0.34  5.08    2.03  1.00\n    Nonflavanoid Phenols:         0.13  0.66    0.36  0.12\n    Proanthocyanins:              0.41  3.58    1.59  0.57\n    Colour Intensity:              1.3  13.0     5.1   2.3\n    Hue:                          0.48  1.71    0.96  0.23\n    OD280/OD315 of diluted wines: 1.27  4.00    2.61  0.71\n    Proline:                       278  1680     746   315\n    ============================= ==== ===== ======= =====\n\n    :Missing Attribute Values: None\n    :Class Distribution: class_0 (59), class_1 (71), class_2 (48)\n    :Creator: R.A. Fisher\n    :Donor: Michael Marshall (MARSHALL%PLU@io.arc.nasa.gov)\n    :Date: July, 1988\n\nThis is a copy of UCI ML Wine recognition datasets.\nhttps://archive.ics.uci.edu/ml/machine-learning-databases/wine/wine.data\n\nThe data is the results of a chemical analysis of wines grown in the same\nregion in Italy by three different cultivators. There are thirteen different\nmeasurements taken for different constituents found in the three types of\nwine.\n\nOriginal Owners: \n\nForina, M. et al, PARVUS - \nAn Extendible Package for Data Exploration, Classification and Correlation. \nInstitute of Pharmaceutical and Food Analysis and Technologies,\nVia Brigata Salerno, 16147 Genoa, Italy.\n\nCitation:\n\nLichman, M. (2013). UCI Machine Learning Repository\n[https://archive.ics.uci.edu/ml]. Irvine, CA: University of California,\nSchool of Information and Computer Science. \n\n.. topic:: References\n\n  (1) S. Aeberhard, D. Coomans and O. de Vel, \n  Comparison of Classifiers in High Dimensional Settings, \n  Tech. Rep. no. 92-02, (1992), Dept. of Computer Science and Dept. of  \n  Mathematics and Statistics, James Cook University of North Queensland. \n  (Also submitted to Technometrics). \n\n  The data was used with many others for comparing various \n  classifiers. The classes are separable, though only RDA \n  has achieved 100% correct classification. \n  (RDA : 100%, QDA 99.4%, LDA 98.9%, 1NN 96.1% (z-transformed data)) \n  (All results using the leave-one-out technique) \n\n  (2) S. Aeberhard, D. Coomans and O. de Vel, \n  \"THE CLASSIFICATION PERFORMANCE OF RDA\" \n  Tech. Rep. no. 92-01, (1992), Dept. of Computer Science and Dept. of \n  Mathematics and Statistics, James Cook University of North Queensland. \n  (Also submitted to Journal of Chemometrics).\n\n['alcohol', 'malic_acid', 'ash', 'alcalinity_of_ash', 'magnesium', 'total_phenols', 'flavanoids', 'nonflavanoid_phenols', 'proanthocyanins', 'color_intensity', 'hue', 'od280/od315_of_diluted_wines', 'proline']\n"
     ]
    }
   ],
   "source": [
    "print(dataset['DESCR'])\n",
    "print(dataset.feature_names)"
   ]
  },
  {
   "cell_type": "markdown",
   "metadata": {},
   "source": [
    "Согласно описанию датасета перед нами выборка 178 винных напитков, для которых мы будем предсказывать один из 3 классов.\\\n",
    "Для начала разделим выборку на обучающую и отложенную."
   ]
  },
  {
   "cell_type": "code",
   "execution_count": 284,
   "metadata": {},
   "outputs": [],
   "source": [
    "from sklearn.model_selection import train_test_split\n",
    "\n",
    "X = dataset.data\n",
    "y = dataset.target\n",
    "X_train, X_test, y_train, y_test = train_test_split(X, y, test_size=0.3, random_state=17)"
   ]
  },
  {
   "cell_type": "markdown",
   "metadata": {},
   "source": [
    "Ссылка на Google форму для проверки ответов: https://forms.gle/jDNb2iDNZSUTi6Fx6"
   ]
  },
  {
   "cell_type": "markdown",
   "metadata": {},
   "source": [
    "**1. Обучите на имеющейся выборке дерево решений (DecisionTreeClassifier) максимальной глубины 2. Найдите точность (определяется с помощью функции `score`) у этого дерева.**\\\n",
    "Используйте параметр `random_state=17` для воспроизводимости результатов."
   ]
  },
  {
   "cell_type": "code",
   "execution_count": 285,
   "metadata": {},
   "outputs": [
    {
     "output_type": "stream",
     "name": "stdout",
     "text": [
      "0.8387533875338753 [0.83333333 0.85365854 0.82926829]\n"
     ]
    }
   ],
   "source": [
    "\n",
    "model = DecisionTreeClassifier(max_depth=2, random_state=17)\n",
    "scores = cross_val_score(model, X_train, y_train, cv=3, error_score=score)\n",
    "print(scores.mean(), scores)"
   ]
  },
  {
   "cell_type": "markdown",
   "metadata": {},
   "source": [
    "**2. С помощью `GridSearchCV` найдите наилучшие параметры из перечисленных ниже.**\\\n",
    "Используйте параметр `random_state=17` для воспроизводимости результатов."
   ]
  },
  {
   "cell_type": "code",
   "execution_count": 286,
   "metadata": {},
   "outputs": [
    {
     "output_type": "stream",
     "name": "stdout",
     "text": [
      "Best score: 0.9274099883855982\nBest params: {'max_depth': 4, 'min_samples_leaf': 1}\n"
     ]
    }
   ],
   "source": [
    "# tree params for grid search\n",
    "tree_params = {'max_depth': list(range(1, 5)), \n",
    "               'min_samples_leaf': list(range(1, 5))}\n",
    "\n",
    "from sklearn.model_selection import GridSearchCV\n",
    "\n",
    "g_search_cv_task2 = GridSearchCV(estimator=DecisionTreeClassifier(random_state=17),\n",
    "                                 param_grid=tree_params,\n",
    "                                 error_score=score, cv=3, n_jobs=4)               \n",
    "g_search_cv_task2.fit(X_train, y_train)\n",
    "print(f'Best score: {g_search_cv_task2.best_score_}')\n",
    "print(f'Best params: {g_search_cv_task2.best_params_}')"
   ]
  },
  {
   "cell_type": "markdown",
   "metadata": {},
   "source": [
    "**3. Какой точностью обладает модель, которая была обучена в задании 2?**\\\n",
    "Используйте параметр `random_state=17` для воспроизводимости результатов."
   ]
  },
  {
   "cell_type": "code",
   "execution_count": 293,
   "metadata": {},
   "outputs": [
    {
     "output_type": "stream",
     "name": "stdout",
     "text": [
      "Train score: 0.9838709677419355\nTest score: 0.9444444444444444\n"
     ]
    },
    {
     "output_type": "execute_result",
     "data": {
      "text/plain": [
       "array([1, 1, 1, 0, 2, 1, 0, 1, 2, 0, 2, 0, 1, 1, 2, 2, 2, 1, 1, 1, 1, 1,\n",
       "       0, 2, 1, 1, 0, 1, 2, 1, 2, 1, 0, 0, 2, 1, 0, 1, 2, 1, 2, 1, 1, 2,\n",
       "       2, 2, 1, 1, 0, 0, 2, 1, 1, 2])"
      ]
     },
     "metadata": {},
     "execution_count": 293
    }
   ],
   "source": [
    "model = DecisionTreeClassifier(max_depth=4, min_samples_leaf=1, random_state=17)\n",
    "model.fit(X_train, y_train)\n",
    "print(f'Train score: {score(y_train, model.predict(X_train))}')\n",
    "\n",
    "pred = model.predict(X_test)\n",
    "print(f'Test score: {score(y_test, pred)}')\n",
    "model.predict(X_test)"
   ]
  },
  {
   "cell_type": "markdown",
   "metadata": {},
   "source": [
    "**4. С помощью `GridSearchCV` найдите наилучшие параметры из перечисленных ниже. В отличие от задания 2 подбирайте параметры на всех выборке целиком (без деления на train и test)**\\\n",
    "Используйте параметр `random_state=17` для воспроизводимости результатов."
   ]
  },
  {
   "cell_type": "code",
   "execution_count": 288,
   "metadata": {},
   "outputs": [
    {
     "output_type": "stream",
     "name": "stdout",
     "text": [
      "Best params: {'max_depth': 3, 'min_samples_leaf': 4}\n"
     ]
    }
   ],
   "source": [
    "# tree params for grid search\n",
    "tree_params = {'max_depth': list(range(1, 5)), \n",
    "               'min_samples_leaf': list(range(1, 5))}\n",
    "\n",
    "\n",
    "from sklearn.model_selection import GridSearchCV\n",
    "import numpy as np\n",
    "\n",
    "g_search_cv_task4 = GridSearchCV(estimator=DecisionTreeClassifier(random_state=17),\n",
    "                                 param_grid=tree_params,\n",
    "                                 error_score=score, cv=3) \n",
    "\n",
    "g_search_cv_task4.fit(X, y)\n",
    "print(f'Best params: {g_search_cv_task4.best_params_}')"
   ]
  },
  {
   "cell_type": "markdown",
   "metadata": {},
   "source": [
    "**5. Какой точностью обладает лучшая модель, которая была обучена в задании 4?**\\\n",
    "Используйте параметр `random_state=17` для воспроизводимости результатов."
   ]
  },
  {
   "cell_type": "code",
   "execution_count": 289,
   "metadata": {},
   "outputs": [
    {
     "output_type": "stream",
     "name": "stdout",
     "text": [
      "Best score: 0.876647834274953\n"
     ]
    }
   ],
   "source": [
    "print(f'Best score: {g_search_cv_task4.best_score_}')"
   ]
  },
  {
   "cell_type": "markdown",
   "metadata": {},
   "source": [
    "**6. Какой признак (порядковый номер) используется чаще всего деревом из задания 2?**\\\n",
    "Используйте параметр `random_state=17` для воспроизводимости результатов."
   ]
  },
  {
   "cell_type": "code",
   "execution_count": 290,
   "metadata": {},
   "outputs": [
    {
     "output_type": "stream",
     "name": "stdout",
     "text": [
      "Best features: [0.03141605 0.01910435 0.         0.         0.         0.\n 0.0717388  0.         0.         0.40845112 0.04849567 0.\n 0.420794  ]\nBest feature: 12\n"
     ]
    }
   ],
   "source": [
    "print(f'Best features: {g_search_cv_task2.best_estimator_.feature_importances_}')\n",
    "print(f'Best feature: {np.argmax(g_search_cv_task2.best_estimator_.feature_importances_)}')"
   ]
  },
  {
   "cell_type": "code",
   "execution_count": 299,
   "metadata": {},
   "outputs": [],
   "source": [
    "from sklearn.tree import export_graphviz\n",
    "\n",
    "fit_model = model.fit(X_train, y_train)\n",
    "export_graphviz(fit_model, out_file='tree_wine.dot', filled=True,\n",
    "                feature_names=dataset.feature_names)\n"
   ]
  },
  {
   "cell_type": "code",
   "execution_count": 300,
   "metadata": {},
   "outputs": [],
   "source": [
    "!dot -Tpng tree_wine.dot -o tree_wine.png"
   ]
  },
  {
   "cell_type": "code",
   "execution_count": 303,
   "metadata": {},
   "outputs": [
    {
     "output_type": "stream",
     "name": "stdout",
     "text": [
      "['alcohol', 'malic_acid', 'ash', 'alcalinity_of_ash', 'magnesium', 'total_phenols', 'flavanoids', 'nonflavanoid_phenols', 'proanthocyanins', 'color_intensity', 'hue', 'od280/od315_of_diluted_wines', 'proline']\n"
     ]
    }
   ],
   "source": [
    "print(dataset.feature_names)"
   ]
  },
  {
   "cell_type": "code",
   "execution_count": null,
   "metadata": {},
   "outputs": [],
   "source": []
  }
 ],
 "metadata": {
  "kernelspec": {
   "name": "Python 3.8.2 64-bit",
   "display_name": "Python 3.8.2 64-bit",
   "metadata": {
    "interpreter": {
     "hash": "aee8b7b246df8f9039afb4144a1f6fd8d2ca17a180786b69acc140d282b71a49"
    }
   }
  },
  "language_info": {
   "codemirror_mode": {
    "name": "ipython",
    "version": 3
   },
   "file_extension": ".py",
   "mimetype": "text/x-python",
   "name": "python",
   "nbconvert_exporter": "python",
   "pygments_lexer": "ipython3",
   "version": "3.8.2-final"
  }
 },
 "nbformat": 4,
 "nbformat_minor": 4
}