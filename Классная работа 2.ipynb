{
 "cells": [
  {
   "cell_type": "markdown",
   "metadata": {},
   "source": [
    "# <center>Тема 2. Углубленные приемы pandas, collections, numpy</center>\n",
    "## <center>Практическое задание. Работа с векторами в библиотеке NumPy</center>"
   ]
  },
  {
   "cell_type": "code",
   "execution_count": 3,
   "metadata": {},
   "outputs": [],
   "source": [
    "import numpy as np\n",
    "import pandas as pd"
   ]
  },
  {
   "cell_type": "markdown",
   "metadata": {},
   "source": [
    "**1. Создайте numpy массив с числами от 100 с шагом в 10, размера 10х5**"
   ]
  },
  {
   "cell_type": "code",
   "execution_count": 110,
   "metadata": {},
   "outputs": [
    {
     "output_type": "stream",
     "name": "stdout",
     "text": [
      "[[100 110 120 130 140]\n [150 160 170 180 190]\n [200 210 220 230 240]\n [250 260 270 280 290]\n [300 310 320 330 340]\n [350 360 370 380 390]\n [400 410 420 430 440]\n [450 460 470 480 490]\n [500 510 520 530 540]\n [550 560 570 580 590]]\n"
     ]
    }
   ],
   "source": [
    "rows_count = 10\n",
    "columns_count = 5\n",
    "step = 10\n",
    "start = 100\n",
    "arr = np.arange(start=start, stop=start + step * rows_count * columns_count, step=step)\n",
    "two_dim_arr = arr.reshape(rows_count, columns_count)\n",
    "print(two_dim_arr)"
   ]
  },
  {
   "cell_type": "markdown",
   "metadata": {},
   "source": [
    "**2. Создайте numpy массив с числами от 100 с шагом в 10, размера 10х5 заполеннный змейкой**  \n",
    "---------->  \n",
    "<---------  \n",
    "---------->  "
   ]
  },
  {
   "cell_type": "code",
   "execution_count": 111,
   "metadata": {},
   "outputs": [
    {
     "output_type": "stream",
     "name": "stdout",
     "text": [
      "[[100 110 120 130 140]\n [150   0   0   0 190]\n [200   0   0   0 240]\n [250   0   0   0 290]\n [300   0   0   0 340]\n [350   0   0   0 390]\n [400   0   0   0 440]\n [450   0   0   0 490]\n [500   0   0   0 540]\n [550   0   0   0 590]]\n"
     ]
    }
   ],
   "source": [
    "# не совсем понятно когда возвращается копия, а когда view\n",
    "two_dim_arr[1::, 1:-1] = 0\n",
    "# two_dim_arr_slice = two_dim_arr[1::2]\n",
    "# two_dim_arr_slice = two_dim_arr_slice[::,::-1]\n",
    "# two_dim_arr[1::2] = two_dim_arr_slice\n",
    "print(two_dim_arr)"
   ]
  },
  {
   "cell_type": "markdown",
   "metadata": {},
   "source": [
    "**3. Вычтите из каждого ряда первого массива соответствующее значение из второго**  \n",
    "Result\n",
    "array([[2, 2, 2],\n",
    "       [2, 2, 2],\n",
    "       [2, 2, 2]])"
   ]
  },
  {
   "cell_type": "code",
   "execution_count": 83,
   "metadata": {},
   "outputs": [
    {
     "output_type": "stream",
     "name": "stdout",
     "text": [
      "3\n"
     ]
    }
   ],
   "source": [
    "a_2d = np.array([[3,3,3],[4,4,4],[5,5,5]])\n",
    "b_1d = np.array([1,2,3])\n",
    "print(a_2d.shape[0])"
   ]
  },
  {
   "cell_type": "code",
   "execution_count": 84,
   "metadata": {},
   "outputs": [
    {
     "output_type": "stream",
     "name": "stdout",
     "text": [
      "[[2 2 2]\n [2 2 2]\n [2 2 2]]\n"
     ]
    }
   ],
   "source": [
    "for i in range(a_2d.shape[0]):\n",
    "    a_2d[i] = a_2d[i] - b_1d[i]\n",
    "print(a_2d)"
   ]
  },
  {
   "cell_type": "markdown",
   "metadata": {},
   "source": [
    "**4. Заменить все положительные числа массива на 1, отрицательные на 0**"
   ]
  },
  {
   "cell_type": "code",
   "execution_count": 80,
   "metadata": {},
   "outputs": [
    {
     "output_type": "stream",
     "name": "stdout",
     "text": [
      "[[-316 -441  653 ...  773  961 -475]\n [-187  456 -432 ...  168  273 -169]\n [ 936  475 -128 ...  408 -892 -310]\n ...\n [-921  396  457 ...  646 -450 -387]\n [ 645  943 -435 ...  863 -920  790]\n [ 641 -548  379 ...  347  -67 -352]]\n"
     ]
    }
   ],
   "source": [
    "np.random.seed(0)\n",
    "X = np.random.randint(-1000, 1000, size=(3000,3000))\n",
    "print(X)"
   ]
  },
  {
   "cell_type": "code",
   "execution_count": 81,
   "metadata": {},
   "outputs": [
    {
     "output_type": "stream",
     "name": "stdout",
     "text": [
      "[[0 0 1 ... 1 1 0]\n [0 1 0 ... 1 1 0]\n [1 1 0 ... 1 0 0]\n ...\n [0 1 1 ... 1 0 0]\n [1 1 0 ... 1 0 1]\n [1 0 1 ... 1 0 0]]\n"
     ]
    }
   ],
   "source": [
    "X[X > 0] = 1\n",
    "X[X < 0] = 0\n",
    "print(X)"
   ]
  },
  {
   "cell_type": "markdown",
   "metadata": {},
   "source": [
    "**5. Создать numpy массив нулей размера NхM c границей из единиц, шириной K**"
   ]
  },
  {
   "cell_type": "code",
   "execution_count": 88,
   "metadata": {},
   "outputs": [],
   "source": [
    "N = 10\n",
    "M = 6\n",
    "K = 2"
   ]
  },
  {
   "cell_type": "code",
   "execution_count": 118,
   "metadata": {},
   "outputs": [
    {
     "output_type": "stream",
     "name": "stdout",
     "text": [
      "[[1. 1. 1. 1. 1. 1.]\n [1. 1. 1. 1. 1. 1.]\n [0. 0. 0. 0. 0. 0.]\n [0. 0. 0. 0. 0. 0.]\n [0. 0. 0. 0. 0. 0.]\n [0. 0. 0. 0. 0. 0.]\n [0. 0. 0. 0. 0. 0.]\n [0. 0. 0. 0. 0. 0.]\n [0. 0. 0. 0. 0. 0.]\n [0. 0. 0. 0. 0. 0.]]\n"
     ]
    }
   ],
   "source": [
    "arr = np.zeros((10, 6))\n",
    "b = arr[:K:][:K:]\n",
    "arr = b\n",
    "print(arr)"
   ]
  },
  {
   "cell_type": "markdown",
   "metadata": {},
   "source": [
    "**6. Вывести все name и среднее число заказов типа 2 по месяцам, для которых общая сумма заказов за месяц, в которых число заказов типа 1 больше числа заказов типа 2, превышает среднюю сумму заказов по всем месяцам.**  \n",
    "Дополнительно: не использовать присваивание"
   ]
  },
  {
   "cell_type": "code",
   "execution_count": null,
   "metadata": {},
   "outputs": [],
   "source": [
    "# не менять\n",
    "np.random.seed(17)\n",
    "data = pd.DataFrame({'name': np.random.randint(0, 10, size=1000),\n",
    "                     'date': pd.date_range('2019-01-01', '2020-01-01', periods=1000),\n",
    "                     'order_type_1': np.random.randint(0, 100, size=1000),\n",
    "                     'order_type_2': np.random.randint(0, 100, size=1000)})\n",
    "data.loc[data['order_type_1'] % 5 == 0, 'order_type_1'] = np.nan\n",
    "data.loc[data['order_type_2'] % 3 == 0, 'order_type_2'] = np.nan\n",
    "data.head()\n",
    "\n",
    "# order_type - сумма заказа типа 1 и типа 2 на определенную дату. NaN если заказа не было"
   ]
  },
  {
   "cell_type": "code",
   "execution_count": null,
   "metadata": {},
   "outputs": [],
   "source": [
    "# Ваш код здесь"
   ]
  }
 ],
 "metadata": {
  "anaconda-cloud": {},
  "kernelspec": {
   "name": "Python 3.8.2 64-bit",
   "display_name": "Python 3.8.2 64-bit",
   "metadata": {
    "interpreter": {
     "hash": "aee8b7b246df8f9039afb4144a1f6fd8d2ca17a180786b69acc140d282b71a49"
    }
   }
  },
  "language_info": {
   "codemirror_mode": {
    "name": "ipython",
    "version": 3
   },
   "file_extension": ".py",
   "mimetype": "text/x-python",
   "name": "python",
   "nbconvert_exporter": "python",
   "pygments_lexer": "ipython3",
   "version": "3.8.2-final"
  },
  "name": "seminar02_practice_pandas_titanic.ipynb"
 },
 "nbformat": 4,
 "nbformat_minor": 4
}